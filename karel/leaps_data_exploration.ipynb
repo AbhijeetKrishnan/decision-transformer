{
 "cells": [
  {
   "cell_type": "markdown",
   "metadata": {},
   "source": [
    "# LEAPS Data Exploration\n",
    "\n",
    "The LEAPS data is a collection of complete programs in the LEAPS Karel DSL for controlling an agent in the Karel environment.\n",
    "My goal is to explore how the programs in the dataset perform on the Karel tasks to serve as a baseline dataset. This\n",
    "will be compared against the dataset being generated using a random policy for the Karel tasks."
   ]
  },
  {
   "cell_type": "markdown",
   "metadata": {},
   "source": [
    "## Imports"
   ]
  },
  {
   "cell_type": "code",
   "execution_count": null,
   "metadata": {},
   "outputs": [],
   "source": [
    "import tables as tb"
   ]
  },
  {
   "cell_type": "markdown",
   "metadata": {},
   "source": [
    "## Read data"
   ]
  },
  {
   "cell_type": "code",
   "execution_count": null,
   "metadata": {},
   "outputs": [],
   "source": [
    "leaps = tb.File('leaps/data/data-001.hdf5', 'r')"
   ]
  },
  {
   "cell_type": "code",
   "execution_count": null,
   "metadata": {},
   "outputs": [],
   "source": [
    "# Explore hdf5 file layout and data\n",
    "count = 0\n",
    "\n",
    "for idx, node in enumerate(leaps.walk_nodes()):\n",
    "    count += 1\n",
    "\n",
    "print(count)"
   ]
  },
  {
   "cell_type": "code",
   "execution_count": null,
   "metadata": {},
   "outputs": [],
   "source": [
    "data_info = leaps.get_node('/data_info')\n",
    "print(data_info._f_list_nodes())"
   ]
  },
  {
   "cell_type": "code",
   "execution_count": null,
   "metadata": {},
   "outputs": [],
   "source": [
    "min_program_length = leaps.get_node('/data_info/min_program_length').read()\n",
    "print(min_program_length)"
   ]
  },
  {
   "cell_type": "code",
   "execution_count": null,
   "metadata": {},
   "outputs": [],
   "source": [
    "max_program_length = leaps.get_node('/data_info/max_program_length').read()\n",
    "print(max_program_length)"
   ]
  },
  {
   "cell_type": "code",
   "execution_count": null,
   "metadata": {},
   "outputs": [],
   "source": [
    "p1 = leaps.get_node('/no_0_prog_len_19_max_s_h_len_5')\n",
    "print(p1._f_list_nodes())"
   ]
  },
  {
   "cell_type": "code",
   "execution_count": null,
   "metadata": {},
   "outputs": [],
   "source": [
    "p1_prog = leaps.get_node('/no_0_prog_len_19_max_s_h_len_5')\n",
    "prog = p1_prog._f_get_child('program').read()\n",
    "print(prog)"
   ]
  },
  {
   "cell_type": "markdown",
   "metadata": {},
   "source": [
    "## Produce dataset"
   ]
  },
  {
   "cell_type": "code",
   "execution_count": null,
   "metadata": {},
   "outputs": [],
   "source": [
    "import sys\n",
    "\n",
    "sys.path.insert(0, 'leaps')\n",
    "\n",
    "from leaps.prl_gym.exec_env import ExecEnv2\n",
    "from leaps.pretrain.get_karel_config import get_karel_task_config"
   ]
  },
  {
   "cell_type": "code",
   "execution_count": null,
   "metadata": {},
   "outputs": [],
   "source": [
    "programs = []\n",
    "tasks = ['cleanHouse', 'harvester', 'fourCorners', 'randomMaze', 'stairClimber', 'topOff']\n",
    "rewards = { task: [] for task in tasks }\n",
    "\n",
    "for idx, node in enumerate(leaps.walk_nodes()):\n",
    "    if 'program' in node:\n",
    "        prog_node = node\n",
    "        program_seq = prog_node._f_get_child('program').read()\n",
    "        for idx, task in enumerate(tasks):\n",
    "            karel_env = ExecEnv2(get_karel_task_config(task))\n",
    "            if idx == 0:\n",
    "                program_str = karel_env.dsl.intseq2str(program_seq)\n",
    "                programs.append(program_str)\n",
    "            reward, _ = karel_env.reward(program_seq)\n",
    "            rewards[task].append(reward)"
   ]
  },
  {
   "cell_type": "code",
   "execution_count": null,
   "metadata": {},
   "outputs": [],
   "source": [
    "import pandas as pd\n",
    "\n",
    "df = pd.DataFrame({\n",
    "    'programs': programs,\n",
    "    'cleanHouse_reward': rewards['cleanHouse'],\n",
    "    'harvester_reward': rewards['harvester'],\n",
    "    'fourCorners_reward': rewards['fourCorners'],\n",
    "    'randomMaze_reward': rewards['randomMaze'],\n",
    "    'stairClimber_reward': rewards['stairClimber'],\n",
    "    'topOff_reward': rewards['topOff'],\n",
    "})\n",
    "print(df.describe())\n",
    "df.to_csv('leaps_data.csv', index=False)"
   ]
  },
  {
   "cell_type": "code",
   "execution_count": null,
   "metadata": {},
   "outputs": [],
   "source": [
    "import pandas as pd\n",
    "\n",
    "df = pd.read_csv('leaps_data.csv')\n",
    "df.describe()"
   ]
  },
  {
   "cell_type": "code",
   "execution_count": null,
   "metadata": {},
   "outputs": [],
   "source": [
    "def prog_len(prog):\n",
    "    env = ExecEnv2(config=get_karel_task_config('harvester'))\n",
    "    prog_seq = env.dsl.str2intseq(prog)\n",
    "    return len(prog_seq)\n",
    "\n",
    "df['prog_len'] = df['programs'].apply(lambda prog: prog_len(prog))\n",
    "df.describe()"
   ]
  },
  {
   "cell_type": "code",
   "execution_count": null,
   "metadata": {},
   "outputs": [],
   "source": [
    "def new_harvester(prog):\n",
    "    env = ExecEnv2(config=get_karel_task_config('harvester'))\n",
    "    reward, _ = env.reward(prog, is_program_str=True)\n",
    "    return reward\n",
    "\n",
    "df['harvester_reward'] = df['programs'].apply(new_harvester)\n",
    "df.describe()"
   ]
  },
  {
   "cell_type": "code",
   "execution_count": null,
   "metadata": {},
   "outputs": [],
   "source": [
    "df.to_csv('leaps_data.csv')"
   ]
  },
  {
   "cell_type": "code",
   "execution_count": null,
   "metadata": {},
   "outputs": [],
   "source": [
    "import matplotlib.pyplot as plt\n",
    "\n",
    "num_bins = 100\n",
    "\n",
    "# Create a figure and arrange subplots\n",
    "fig, axes = plt.subplots(nrows=2, ncols=3, figsize=(12, 8))\n",
    "\n",
    "# Plot the distributions in each subplot\n",
    "axes[0, 0].hist(df.cleanHouse_reward, bins=num_bins, color='blue', alpha=0.7)\n",
    "axes[0, 0].set_title('cleanHouse')\n",
    "\n",
    "axes[0, 1].hist(df.harvester_reward, bins=num_bins, color='orange', alpha=0.7)\n",
    "axes[0, 1].set_title('harvester')\n",
    "\n",
    "axes[0, 2].hist(df.fourCorners_reward, bins=num_bins, color='green', alpha=0.7)\n",
    "axes[0, 2].set_title('fourCorners')\n",
    "\n",
    "axes[1, 0].hist(df.randomMaze_reward, bins=num_bins, color='red', alpha=0.7)\n",
    "axes[1, 0].set_title('randomMaze')\n",
    "\n",
    "axes[1, 1].hist(df.stairClimber_reward, bins=num_bins, color='purple', alpha=0.7)\n",
    "axes[1, 1].set_title('stairClimber')\n",
    "\n",
    "axes[1, 2].hist(df.topOff_reward, bins=num_bins, color='brown', alpha=0.7)\n",
    "axes[1, 2].set_title('topOff')\n",
    "\n",
    "# Adjust layout to prevent overlap\n",
    "plt.tight_layout()\n",
    "\n",
    "# Show the plot\n",
    "plt.show()"
   ]
  },
  {
   "cell_type": "code",
   "execution_count": null,
   "metadata": {},
   "outputs": [],
   "source": [
    "anomalous = df[df.filter(like='_reward').apply(lambda col: (col < 0) | (col > 1)).any(axis=1)]\n",
    "print(anomalous)\n",
    "\n",
    "anomalous.to_csv('anomalous.csv')"
   ]
  },
  {
   "cell_type": "code",
   "execution_count": null,
   "metadata": {},
   "outputs": [],
   "source": [
    "tasks = ['cleanHouse', 'harvester', 'fourCorners', 'randomMaze', 'stairClimber', 'topOff']\n",
    "df[df['harvester_reward'] == df['harvester_reward'].min()].programs.values[0]"
   ]
  },
  {
   "cell_type": "code",
   "execution_count": null,
   "metadata": {},
   "outputs": [],
   "source": [
    "max_len = df[df['prog_len'] == df['prog_len'].max()].programs.values[0]\n",
    "print('\\n'.join([f'{idx}, {token}' for idx, token in enumerate(max_len.split())]))"
   ]
  },
  {
   "cell_type": "code",
   "execution_count": null,
   "metadata": {},
   "outputs": [],
   "source": [
    "from collections import Counter\n",
    "print(Counter(df['fourCorners_reward']))"
   ]
  }
 ],
 "metadata": {
  "kernelspec": {
   "display_name": "decision-transformer-microrts",
   "language": "python",
   "name": "python3"
  },
  "language_info": {
   "codemirror_mode": {
    "name": "ipython",
    "version": 3
   },
   "file_extension": ".py",
   "mimetype": "text/x-python",
   "name": "python",
   "nbconvert_exporter": "python",
   "pygments_lexer": "ipython3",
   "version": "3.11.3"
  },
  "orig_nbformat": 4
 },
 "nbformat": 4,
 "nbformat_minor": 2
}
