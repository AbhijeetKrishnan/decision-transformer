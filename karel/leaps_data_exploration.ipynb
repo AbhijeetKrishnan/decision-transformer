{
 "cells": [
  {
   "cell_type": "markdown",
   "metadata": {},
   "source": [
    "# LEAPS Data Exploration\n",
    "\n",
    "The LEAPS data is a collection of complete programs in the LEAPS Karel DSL for controlling an agent in the Karel environment.\n",
    "My goal is to explore how the programs in the dataset perform on the Karel tasks to serve as a baseline dataset. This\n",
    "will be compared against the dataset being generated using a random policy for the Karel tasks."
   ]
  },
  {
   "cell_type": "markdown",
   "metadata": {},
   "source": [
    "## Read data"
   ]
  },
  {
   "cell_type": "code",
   "execution_count": 1,
   "metadata": {},
   "outputs": [],
   "source": [
    "import tables as tb\n",
    "\n",
    "leaps_data = tb.File('leaps/data/data-001.hdf5', 'r')"
   ]
  },
  {
   "cell_type": "markdown",
   "metadata": {},
   "source": [
    "### Output tree structure to file\n",
    "\n",
    "Takes ~5 mins to run"
   ]
  },
  {
   "cell_type": "code",
   "execution_count": null,
   "metadata": {},
   "outputs": [],
   "source": [
    "leaps_tree = str(leaps_data)\n",
    "with open('leaps_tree.txt', 'w') as f:\n",
    "    f.write(leaps_tree)"
   ]
  },
  {
   "cell_type": "code",
   "execution_count": 2,
   "metadata": {},
   "outputs": [
    {
     "name": "stdout",
     "output_type": "stream",
     "text": [
      "max_demo_length 20\n",
      "max_program_length 50\n",
      "min_demo_length 1\n",
      "min_program_length 7\n",
      "num_action_tokens 5\n",
      "num_demo_per_program 10\n",
      "num_program_tokens 50\n",
      "num_test 7500\n",
      "num_train 35000\n",
      "num_val 7500\n"
     ]
    },
    {
     "name": "stderr",
     "output_type": "stream",
     "text": [
      "/home/akrish13/miniconda3/envs/decision-transformer-microrts/lib/python3.11/site-packages/tables/group.py:1160: UserWarning: problems loading leaf ``/data_info/dsl_type``::\n",
      "\n",
      "  variable length strings are not supported yet\n",
      "\n",
      "The leaf will become an ``UnImplemented`` node.\n",
      "  warnings.warn(\n"
     ]
    }
   ],
   "source": [
    "data_info = leaps_data.get_node('/data_info')\n",
    "\n",
    "for node in data_info._f_iter_nodes():\n",
    "    try:\n",
    "        print(node._v_name, node.read())\n",
    "    except:\n",
    "        pass"
   ]
  },
  {
   "cell_type": "markdown",
   "metadata": {},
   "source": [
    "Examining the tree structure reveals no indication of how the train, validation and test sets are split. Is it simply that the first `num_train` programs are in the train set, and so on?"
   ]
  },
  {
   "cell_type": "code",
   "execution_count": 3,
   "metadata": {},
   "outputs": [
    {
     "name": "stdout",
     "output_type": "stream",
     "text": [
      "a_h\n",
      "a_h_len\n",
      "program\n",
      "s_h\n",
      "s_h_len\n"
     ]
    }
   ],
   "source": [
    "p1 = leaps_data.get_node('/no_0_prog_len_19_max_s_h_len_5')\n",
    "for node in p1._f_iter_nodes():\n",
    "    try:\n",
    "        print(node._v_name)\n",
    "    except:\n",
    "        pass"
   ]
  },
  {
   "cell_type": "code",
   "execution_count": 4,
   "metadata": {},
   "outputs": [
    {
     "name": "stdout",
     "output_type": "stream",
     "text": [
      "0 [ 0  1  2  6  4  6  4 49 32 41 33 47 31 27  9  4 10 48  3]\n"
     ]
    }
   ],
   "source": [
    "p1_prog = leaps_data.get_node('/no_0_prog_len_19_max_s_h_len_5')\n",
    "prog = p1_prog._f_get_child('program').read()\n",
    "print(p1_prog._v_name.split('_')[1], prog)"
   ]
  },
  {
   "cell_type": "markdown",
   "metadata": {},
   "source": [
    "## Produce dataset"
   ]
  },
  {
   "cell_type": "code",
   "execution_count": 5,
   "metadata": {},
   "outputs": [
    {
     "name": "stderr",
     "output_type": "stream",
     "text": [
      "/home/akrish13/miniconda3/envs/decision-transformer-microrts/lib/python3.11/site-packages/gymnasium/envs/registration.py:693: UserWarning: \u001b[33mWARN: Overriding environment CartPoleDiscrete-v0 already in registry.\u001b[0m\n",
      "  logger.warn(f\"Overriding environment {new_spec.id} already in registry.\")\n"
     ]
    }
   ],
   "source": [
    "import sys\n",
    "\n",
    "sys.path.insert(0, 'leaps')\n",
    "\n",
    "from leaps.prl_gym.exec_env import ExecEnv2\n",
    "from leaps.pretrain.get_karel_config import get_karel_task_config"
   ]
  },
  {
   "cell_type": "markdown",
   "metadata": {},
   "source": [
    "Takes ~500 mins to run"
   ]
  },
  {
   "cell_type": "code",
   "execution_count": null,
   "metadata": {},
   "outputs": [],
   "source": [
    "programs = []\n",
    "indices = []\n",
    "prog_lens = []\n",
    "tasks = ['cleanHouse', 'harvester', 'fourCorners', 'randomMaze', 'stairClimber', 'topOff']\n",
    "rewards = { task: [] for task in tasks }\n",
    "\n",
    "for node in leaps_data.walk_nodes():\n",
    "    try:\n",
    "        if 'program' in node:\n",
    "            prog_node = node\n",
    "            prog_num = prog_node._v_name.split('_')[1]\n",
    "            program_seq = prog_node._f_get_child('program').read()\n",
    "            for idx, task in enumerate(tasks):\n",
    "                karel_env = ExecEnv2(get_karel_task_config(task))\n",
    "                if idx == 0:\n",
    "                    program_str = karel_env.dsl.intseq2str(program_seq)\n",
    "                    indices.append(prog_num)\n",
    "                    programs.append(program_str)\n",
    "                    prog_lens.append(prog_len(program_str))\n",
    "                reward, _ = karel_env.reward(program_seq)\n",
    "                rewards[task].append(reward)\n",
    "    except:\n",
    "        pass\n",
    "\n",
    "df = pd.DataFrame({\n",
    "    'program': programs,\n",
    "    'prog_len': prog_lens,\n",
    "    **{f'{task}_reward': rewards[task] for task in tasks}\n",
    "})\n",
    "\n",
    "df.to_csv('leaps_data.csv', index_label='indices')"
   ]
  },
  {
   "cell_type": "markdown",
   "metadata": {},
   "source": [
    "## Data Exploration"
   ]
  },
  {
   "cell_type": "code",
   "execution_count": 17,
   "metadata": {},
   "outputs": [
    {
     "data": {
      "text/html": [
       "<div>\n",
       "<style scoped>\n",
       "    .dataframe tbody tr th:only-of-type {\n",
       "        vertical-align: middle;\n",
       "    }\n",
       "\n",
       "    .dataframe tbody tr th {\n",
       "        vertical-align: top;\n",
       "    }\n",
       "\n",
       "    .dataframe thead th {\n",
       "        text-align: right;\n",
       "    }\n",
       "</style>\n",
       "<table border=\"1\" class=\"dataframe\">\n",
       "  <thead>\n",
       "    <tr style=\"text-align: right;\">\n",
       "      <th></th>\n",
       "      <th>indices</th>\n",
       "      <th>prog_len</th>\n",
       "      <th>cleanHouse_reward</th>\n",
       "      <th>harvester_reward</th>\n",
       "      <th>fourCorners_reward</th>\n",
       "      <th>randomMaze_reward</th>\n",
       "      <th>stairClimber_reward</th>\n",
       "      <th>topOff_reward</th>\n",
       "    </tr>\n",
       "  </thead>\n",
       "  <tbody>\n",
       "    <tr>\n",
       "      <th>count</th>\n",
       "      <td>50000.000000</td>\n",
       "      <td>50000.000000</td>\n",
       "      <td>50000.000000</td>\n",
       "      <td>50000.000000</td>\n",
       "      <td>50000.000000</td>\n",
       "      <td>50000.000000</td>\n",
       "      <td>50000.000000</td>\n",
       "      <td>50000.000000</td>\n",
       "    </tr>\n",
       "    <tr>\n",
       "      <th>mean</th>\n",
       "      <td>24999.500000</td>\n",
       "      <td>19.301080</td>\n",
       "      <td>0.100048</td>\n",
       "      <td>0.086496</td>\n",
       "      <td>0.102710</td>\n",
       "      <td>0.197774</td>\n",
       "      <td>0.102446</td>\n",
       "      <td>0.208486</td>\n",
       "    </tr>\n",
       "    <tr>\n",
       "      <th>std</th>\n",
       "      <td>14433.901067</td>\n",
       "      <td>5.961726</td>\n",
       "      <td>0.001919</td>\n",
       "      <td>0.083187</td>\n",
       "      <td>0.026176</td>\n",
       "      <td>0.112246</td>\n",
       "      <td>0.033696</td>\n",
       "      <td>0.101515</td>\n",
       "    </tr>\n",
       "    <tr>\n",
       "      <th>min</th>\n",
       "      <td>0.000000</td>\n",
       "      <td>7.000000</td>\n",
       "      <td>0.100000</td>\n",
       "      <td>-1.261111</td>\n",
       "      <td>0.100000</td>\n",
       "      <td>0.100000</td>\n",
       "      <td>0.100000</td>\n",
       "      <td>0.100000</td>\n",
       "    </tr>\n",
       "    <tr>\n",
       "      <th>25%</th>\n",
       "      <td>12499.750000</td>\n",
       "      <td>15.000000</td>\n",
       "      <td>0.100000</td>\n",
       "      <td>0.100000</td>\n",
       "      <td>0.100000</td>\n",
       "      <td>0.100000</td>\n",
       "      <td>0.100000</td>\n",
       "      <td>0.118182</td>\n",
       "    </tr>\n",
       "    <tr>\n",
       "      <th>50%</th>\n",
       "      <td>24999.500000</td>\n",
       "      <td>19.000000</td>\n",
       "      <td>0.100000</td>\n",
       "      <td>0.100000</td>\n",
       "      <td>0.100000</td>\n",
       "      <td>0.100000</td>\n",
       "      <td>0.100000</td>\n",
       "      <td>0.172727</td>\n",
       "    </tr>\n",
       "    <tr>\n",
       "      <th>75%</th>\n",
       "      <td>37499.250000</td>\n",
       "      <td>23.000000</td>\n",
       "      <td>0.100000</td>\n",
       "      <td>0.100000</td>\n",
       "      <td>0.100000</td>\n",
       "      <td>0.300000</td>\n",
       "      <td>0.100000</td>\n",
       "      <td>0.272727</td>\n",
       "    </tr>\n",
       "    <tr>\n",
       "      <th>max</th>\n",
       "      <td>49999.000000</td>\n",
       "      <td>50.000000</td>\n",
       "      <td>0.200000</td>\n",
       "      <td>0.655556</td>\n",
       "      <td>1.100000</td>\n",
       "      <td>1.100000</td>\n",
       "      <td>1.100000</td>\n",
       "      <td>1.100000</td>\n",
       "    </tr>\n",
       "  </tbody>\n",
       "</table>\n",
       "</div>"
      ],
      "text/plain": [
       "            indices      prog_len  cleanHouse_reward  harvester_reward  \\\n",
       "count  50000.000000  50000.000000       50000.000000      50000.000000   \n",
       "mean   24999.500000     19.301080           0.100048          0.086496   \n",
       "std    14433.901067      5.961726           0.001919          0.083187   \n",
       "min        0.000000      7.000000           0.100000         -1.261111   \n",
       "25%    12499.750000     15.000000           0.100000          0.100000   \n",
       "50%    24999.500000     19.000000           0.100000          0.100000   \n",
       "75%    37499.250000     23.000000           0.100000          0.100000   \n",
       "max    49999.000000     50.000000           0.200000          0.655556   \n",
       "\n",
       "       fourCorners_reward  randomMaze_reward  stairClimber_reward  \\\n",
       "count        50000.000000       50000.000000         50000.000000   \n",
       "mean             0.102710           0.197774             0.102446   \n",
       "std              0.026176           0.112246             0.033696   \n",
       "min              0.100000           0.100000             0.100000   \n",
       "25%              0.100000           0.100000             0.100000   \n",
       "50%              0.100000           0.100000             0.100000   \n",
       "75%              0.100000           0.300000             0.100000   \n",
       "max              1.100000           1.100000             1.100000   \n",
       "\n",
       "       topOff_reward  \n",
       "count   50000.000000  \n",
       "mean        0.208486  \n",
       "std         0.101515  \n",
       "min         0.100000  \n",
       "25%         0.118182  \n",
       "50%         0.172727  \n",
       "75%         0.272727  \n",
       "max         1.100000  "
      ]
     },
     "execution_count": 17,
     "metadata": {},
     "output_type": "execute_result"
    }
   ],
   "source": [
    "import pandas as pd\n",
    "\n",
    "df = pd.read_csv('leaps_data.csv')\n",
    "df.describe()"
   ]
  },
  {
   "cell_type": "code",
   "execution_count": 18,
   "metadata": {},
   "outputs": [
    {
     "data": {
      "image/png": "[encoded data removed]",
      "text/plain": [
       "<Figure size 1200x800 with 6 Axes>"
      ]
     },
     "metadata": {},
     "output_type": "display_data"
    }
   ],
   "source": [
    "import matplotlib.pyplot as plt\n",
    "\n",
    "num_bins = 100\n",
    "\n",
    "# Create a figure and arrange subplots\n",
    "fig, axes = plt.subplots(nrows=2, ncols=3, figsize=(12, 8))\n",
    "\n",
    "# Plot the distributions in each subplot\n",
    "axes[0, 0].hist(df.cleanHouse_reward, bins=num_bins, color='blue', alpha=0.7)\n",
    "axes[0, 0].set_title('cleanHouse')\n",
    "\n",
    "axes[0, 1].hist(df.harvester_reward, bins=num_bins, color='orange', alpha=0.7)\n",
    "axes[0, 1].set_title('harvester')\n",
    "\n",
    "axes[0, 2].hist(df.fourCorners_reward, bins=num_bins, color='green', alpha=0.7)\n",
    "axes[0, 2].set_title('fourCorners')\n",
    "\n",
    "axes[1, 0].hist(df.randomMaze_reward, bins=num_bins, color='red', alpha=0.7)\n",
    "axes[1, 0].set_title('randomMaze')\n",
    "\n",
    "axes[1, 1].hist(df.stairClimber_reward, bins=num_bins, color='purple', alpha=0.7)\n",
    "axes[1, 1].set_title('stairClimber')\n",
    "\n",
    "axes[1, 2].hist(df.topOff_reward, bins=num_bins, color='brown', alpha=0.7)\n",
    "axes[1, 2].set_title('topOff')\n",
    "\n",
    "# Adjust layout to prevent overlap\n",
    "plt.tight_layout()\n",
    "\n",
    "# Show the plot\n",
    "plt.show()"
   ]
  },
  {
   "cell_type": "code",
   "execution_count": null,
   "metadata": {},
   "outputs": [],
   "source": [
    "anomalous = df[df.filter(like='_reward').apply(lambda col: (col < 0) | (col > 1)).any(axis=1)]\n",
    "print(anomalous)\n",
    "\n",
    "anomalous.to_csv('anomalous.csv')"
   ]
  },
  {
   "cell_type": "code",
   "execution_count": null,
   "metadata": {},
   "outputs": [],
   "source": [
    "tasks = ['cleanHouse', 'harvester', 'fourCorners', 'randomMaze', 'stairClimber', 'topOff']\n",
    "df[df['harvester_reward'] == df['harvester_reward'].min()].programs.values[0]"
   ]
  },
  {
   "cell_type": "code",
   "execution_count": null,
   "metadata": {},
   "outputs": [],
   "source": [
    "max_len = df[df['prog_len'] == df['prog_len'].max()].programs.values[0]\n",
    "print('\\n'.join([f'{idx}, {token}' for idx, token in enumerate(max_len.split())]))"
   ]
  },
  {
   "cell_type": "code",
   "execution_count": null,
   "metadata": {},
   "outputs": [],
   "source": [
    "from collections import Counter\n",
    "print(Counter(df['fourCorners_reward']))"
   ]
  }
 ],
 "metadata": {
  "kernelspec": {
   "display_name": "decision-transformer-microrts",
   "language": "python",
   "name": "python3"
  },
  "language_info": {
   "codemirror_mode": {
    "name": "ipython",
    "version": 3
   },
   "file_extension": ".py",
   "mimetype": "text/x-python",
   "name": "python",
   "nbconvert_exporter": "python",
   "pygments_lexer": "ipython3",
   "version": "3.11.3"
  },
  "orig_nbformat": 4
 },
 "nbformat": 4,
 "nbformat_minor": 2
}
