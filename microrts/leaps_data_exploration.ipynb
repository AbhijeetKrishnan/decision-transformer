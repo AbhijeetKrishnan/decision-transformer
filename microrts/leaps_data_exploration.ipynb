{
 "cells": [
  {
   "cell_type": "markdown",
   "metadata": {},
   "source": [
    "# LEAPS Data Exploration\n",
    "\n",
    "The LEAPS data is a collection of complete programs in the LEAPS Karel DSL for controlling an agent in the Karel environment.\n",
    "My goal is to explore how the programs in the dataset perform on the Karel tasks to serve as a baseline dataset. This\n",
    "will be compared against the dataset being generated using a random policy for the Karel tasks."
   ]
  },
  {
   "cell_type": "markdown",
   "metadata": {},
   "source": [
    "## Imports"
   ]
  },
  {
   "cell_type": "code",
   "execution_count": 8,
   "metadata": {},
   "outputs": [],
   "source": [
    "import tables as tb"
   ]
  },
  {
   "cell_type": "markdown",
   "metadata": {},
   "source": [
    "## Read data"
   ]
  },
  {
   "cell_type": "code",
   "execution_count": 9,
   "metadata": {},
   "outputs": [],
   "source": [
    "leaps = tb.File('leaps/data/data-001.hdf5', 'r')"
   ]
  },
  {
   "cell_type": "code",
   "execution_count": 33,
   "metadata": {},
   "outputs": [
    {
     "name": "stderr",
     "output_type": "stream",
     "text": [
      "/home/akrish13/miniconda3/envs/decision-transformer-microrts/lib/python3.11/site-packages/tables/group.py:1160: UserWarning: problems loading leaf ``/data_info/dsl_type``::\n",
      "\n",
      "  variable length strings are not supported yet\n",
      "\n",
      "The leaf will become an ``UnImplemented`` node.\n",
      "  warnings.warn(\n"
     ]
    },
    {
     "name": "stdout",
     "output_type": "stream",
     "text": [
      "300013\n"
     ]
    }
   ],
   "source": [
    "# Explore hdf5 file layout and data\n",
    "count = 0\n",
    "\n",
    "for idx, node in enumerate(leaps.walk_nodes()):\n",
    "    count += 1\n",
    "\n",
    "print(count)"
   ]
  },
  {
   "cell_type": "code",
   "execution_count": 4,
   "metadata": {},
   "outputs": [
    {
     "name": "stdout",
     "output_type": "stream",
     "text": [
      "[/data_info/dsl_type (UnImplemented()) ''\n",
      "  NOTE: <The UnImplemented object represents a PyTables unimplemented\n",
      "         dataset present in the 'leaps/data/data-001.hdf5' HDF5 file.  If you want to see this\n",
      "         kind of HDF5 dataset implemented in PyTables, please contact the\n",
      "         developers.>\n",
      ", /data_info/max_demo_length (Array()) ''\n",
      "  atom := Int16Atom(shape=(), dflt=0)\n",
      "  maindim := 0\n",
      "  flavor := 'numpy'\n",
      "  byteorder := 'little'\n",
      "  chunkshape := None, /data_info/max_program_length (Array()) ''\n",
      "  atom := Int64Atom(shape=(), dflt=0)\n",
      "  maindim := 0\n",
      "  flavor := 'numpy'\n",
      "  byteorder := 'little'\n",
      "  chunkshape := None, /data_info/min_demo_length (Array()) ''\n",
      "  atom := Int16Atom(shape=(), dflt=0)\n",
      "  maindim := 0\n",
      "  flavor := 'numpy'\n",
      "  byteorder := 'little'\n",
      "  chunkshape := None, /data_info/min_program_length (Array()) ''\n",
      "  atom := Int64Atom(shape=(), dflt=0)\n",
      "  maindim := 0\n",
      "  flavor := 'numpy'\n",
      "  byteorder := 'little'\n",
      "  chunkshape := None, /data_info/num_action_tokens (Array()) ''\n",
      "  atom := Int64Atom(shape=(), dflt=0)\n",
      "  maindim := 0\n",
      "  flavor := 'numpy'\n",
      "  byteorder := 'little'\n",
      "  chunkshape := None, /data_info/num_demo_per_program (Array()) ''\n",
      "  atom := Int64Atom(shape=(), dflt=0)\n",
      "  maindim := 0\n",
      "  flavor := 'numpy'\n",
      "  byteorder := 'little'\n",
      "  chunkshape := None, /data_info/num_program_tokens (Array()) ''\n",
      "  atom := Int64Atom(shape=(), dflt=0)\n",
      "  maindim := 0\n",
      "  flavor := 'numpy'\n",
      "  byteorder := 'little'\n",
      "  chunkshape := None, /data_info/num_test (Array()) ''\n",
      "  atom := Int64Atom(shape=(), dflt=0)\n",
      "  maindim := 0\n",
      "  flavor := 'numpy'\n",
      "  byteorder := 'little'\n",
      "  chunkshape := None, /data_info/num_train (Array()) ''\n",
      "  atom := Int64Atom(shape=(), dflt=0)\n",
      "  maindim := 0\n",
      "  flavor := 'numpy'\n",
      "  byteorder := 'little'\n",
      "  chunkshape := None, /data_info/num_val (Array()) ''\n",
      "  atom := Int64Atom(shape=(), dflt=0)\n",
      "  maindim := 0\n",
      "  flavor := 'numpy'\n",
      "  byteorder := 'little'\n",
      "  chunkshape := None]\n"
     ]
    },
    {
     "name": "stderr",
     "output_type": "stream",
     "text": [
      "/home/akrish13/miniconda3/envs/decision-transformer-microrts/lib/python3.11/site-packages/tables/group.py:1160: UserWarning: problems loading leaf ``/data_info/dsl_type``::\n",
      "\n",
      "  variable length strings are not supported yet\n",
      "\n",
      "The leaf will become an ``UnImplemented`` node.\n",
      "  warnings.warn(\n"
     ]
    }
   ],
   "source": [
    "data_info = leaps.get_node('/data_info')\n",
    "print(data_info._f_list_nodes())"
   ]
  },
  {
   "cell_type": "code",
   "execution_count": 5,
   "metadata": {},
   "outputs": [
    {
     "name": "stdout",
     "output_type": "stream",
     "text": [
      "7\n"
     ]
    }
   ],
   "source": [
    "min_program_length = leaps.get_node('/data_info/min_program_length').read()\n",
    "print(min_program_length)"
   ]
  },
  {
   "cell_type": "code",
   "execution_count": 10,
   "metadata": {},
   "outputs": [
    {
     "name": "stdout",
     "output_type": "stream",
     "text": [
      "50\n"
     ]
    }
   ],
   "source": [
    "max_program_length = leaps.get_node('/data_info/max_program_length').read()\n",
    "print(max_program_length)"
   ]
  },
  {
   "cell_type": "code",
   "execution_count": 7,
   "metadata": {},
   "outputs": [
    {
     "name": "stdout",
     "output_type": "stream",
     "text": [
      "[/no_0_prog_len_19_max_s_h_len_5/a_h (Array(10, 4)) ''\n",
      "  atom := Int8Atom(shape=(), dflt=0)\n",
      "  maindim := 0\n",
      "  flavor := 'numpy'\n",
      "  byteorder := 'irrelevant'\n",
      "  chunkshape := None, /no_0_prog_len_19_max_s_h_len_5/a_h_len (Array(10,)) ''\n",
      "  atom := Int16Atom(shape=(), dflt=0)\n",
      "  maindim := 0\n",
      "  flavor := 'numpy'\n",
      "  byteorder := 'little'\n",
      "  chunkshape := None, /no_0_prog_len_19_max_s_h_len_5/program (Array(19,)) ''\n",
      "  atom := Int8Atom(shape=(), dflt=0)\n",
      "  maindim := 0\n",
      "  flavor := 'numpy'\n",
      "  byteorder := 'irrelevant'\n",
      "  chunkshape := None, /no_0_prog_len_19_max_s_h_len_5/s_h (Array(10, 5, 8, 8, 16)) ''\n",
      "  atom := EnumAtom(enum=Enum({'FALSE': 0, 'TRUE': 1}), dflt='FALSE', base=Int8Atom(shape=(), dflt=0), shape=())\n",
      "  maindim := 0\n",
      "  flavor := 'numpy'\n",
      "  byteorder := 'little'\n",
      "  chunkshape := None, /no_0_prog_len_19_max_s_h_len_5/s_h_len (Array(10,)) ''\n",
      "  atom := Int16Atom(shape=(), dflt=0)\n",
      "  maindim := 0\n",
      "  flavor := 'numpy'\n",
      "  byteorder := 'little'\n",
      "  chunkshape := None]\n"
     ]
    }
   ],
   "source": [
    "p1 = leaps.get_node('/no_0_prog_len_19_max_s_h_len_5')\n",
    "print(p1._f_list_nodes())"
   ]
  },
  {
   "cell_type": "code",
   "execution_count": 14,
   "metadata": {},
   "outputs": [
    {
     "name": "stdout",
     "output_type": "stream",
     "text": [
      "[ 0  1  2  6  4  6  4 49 32 41 33 47 31 27  9  4 10 48  3]\n"
     ]
    }
   ],
   "source": [
    "p1_prog = leaps.get_node('/no_0_prog_len_19_max_s_h_len_5')\n",
    "prog = p1_prog._f_get_child('program').read()\n",
    "print(prog)"
   ]
  },
  {
   "cell_type": "markdown",
   "metadata": {},
   "source": [
    "## Produce dataset"
   ]
  },
  {
   "cell_type": "code",
   "execution_count": 24,
   "metadata": {},
   "outputs": [
    {
     "name": "stderr",
     "output_type": "stream",
     "text": [
      "/home/akrish13/miniconda3/envs/decision-transformer-microrts/lib/python3.11/site-packages/gymnasium/envs/registration.py:693: UserWarning: \u001b[33mWARN: Overriding environment CartPoleDiscrete-v0 already in registry.\u001b[0m\n",
      "  logger.warn(f\"Overriding environment {new_spec.id} already in registry.\")\n"
     ]
    }
   ],
   "source": [
    "import sys\n",
    "\n",
    "sys.path.insert(0, 'leaps')\n",
    "\n",
    "from leaps.prl_gym.exec_env import ExecEnv2\n",
    "from leaps.pretrain.get_karel_config import get_karel_task_config"
   ]
  },
  {
   "cell_type": "code",
   "execution_count": 44,
   "metadata": {},
   "outputs": [],
   "source": [
    "programs = []\n",
    "tasks = ['cleanHouse', 'harvester', 'fourCorners', 'randomMaze', 'stairClimber', 'topOff']\n",
    "rewards = { task: [] for task in tasks }\n",
    "\n",
    "for idx, node in enumerate(leaps.walk_nodes()):\n",
    "    if 'program' in node:\n",
    "        prog_node = node\n",
    "        program_seq = prog_node._f_get_child('program').read()\n",
    "        for idx, task in enumerate(tasks):\n",
    "            karel_env = ExecEnv2(get_karel_task_config(task))\n",
    "            if idx == 0:\n",
    "                program_str = karel_env.dsl.intseq2str(program_seq)\n",
    "                programs.append(program_str)\n",
    "            reward, _ = karel_env.reward(program_seq)\n",
    "            rewards[task].append(reward)"
   ]
  },
  {
   "cell_type": "code",
   "execution_count": 41,
   "metadata": {},
   "outputs": [
    {
     "name": "stdout",
     "output_type": "stream",
     "text": [
      "       cleanHouse_reward  harvester_reward  fourCorners_reward  \\\n",
      "count        50000.00000      50000.000000        50000.000000   \n",
      "mean             0.10005          0.086496            0.102710   \n",
      "std              0.00215          0.083187            0.026176   \n",
      "min              0.10000         -1.261111            0.100000   \n",
      "25%              0.10000          0.100000            0.100000   \n",
      "50%              0.10000          0.100000            0.100000   \n",
      "75%              0.10000          0.100000            0.100000   \n",
      "max              0.26000          0.655556            1.100000   \n",
      "\n",
      "       randomMaze_reward  stairClimber_reward  topOff_reward  \n",
      "count       50000.000000         50000.000000   50000.000000  \n",
      "mean            0.180068             0.102520       0.223384  \n",
      "std             0.098164             0.033444       0.113934  \n",
      "min             0.100000             0.100000       0.100000  \n",
      "25%             0.100000             0.100000       0.100000  \n",
      "50%             0.200000             0.100000       0.190909  \n",
      "75%             0.200000             0.100000       0.300000  \n",
      "max             1.100000             1.100000       1.100000  \n"
     ]
    }
   ],
   "source": [
    "import pandas as pd\n",
    "\n",
    "df = pd.DataFrame({\n",
    "    'programs': programs,\n",
    "    'cleanHouse_reward': rewards['cleanHouse'],\n",
    "    'harvester_reward': rewards['harvester'],\n",
    "    'fourCorners_reward': rewards['fourCorners'],\n",
    "    'randomMaze_reward': rewards['randomMaze'],\n",
    "    'stairClimber_reward': rewards['stairClimber'],\n",
    "    'topOff_reward': rewards['topOff'],\n",
    "})\n",
    "print(df.describe())\n",
    "df.to_csv('leaps_data.csv', index=False)"
   ]
  },
  {
   "cell_type": "code",
   "execution_count": 1,
   "metadata": {},
   "outputs": [
    {
     "data": {
      "text/html": [
       "<div>\n",
       "<style scoped>\n",
       "    .dataframe tbody tr th:only-of-type {\n",
       "        vertical-align: middle;\n",
       "    }\n",
       "\n",
       "    .dataframe tbody tr th {\n",
       "        vertical-align: top;\n",
       "    }\n",
       "\n",
       "    .dataframe thead th {\n",
       "        text-align: right;\n",
       "    }\n",
       "</style>\n",
       "<table border=\"1\" class=\"dataframe\">\n",
       "  <thead>\n",
       "    <tr style=\"text-align: right;\">\n",
       "      <th></th>\n",
       "      <th>Unnamed: 0</th>\n",
       "      <th>cleanHouse_reward</th>\n",
       "      <th>harvester_reward</th>\n",
       "      <th>fourCorners_reward</th>\n",
       "      <th>randomMaze_reward</th>\n",
       "      <th>stairClimber_reward</th>\n",
       "      <th>topOff_reward</th>\n",
       "      <th>prog_len</th>\n",
       "    </tr>\n",
       "  </thead>\n",
       "  <tbody>\n",
       "    <tr>\n",
       "      <th>count</th>\n",
       "      <td>50000.000000</td>\n",
       "      <td>50000.00000</td>\n",
       "      <td>50000.000000</td>\n",
       "      <td>50000.000000</td>\n",
       "      <td>50000.000000</td>\n",
       "      <td>50000.000000</td>\n",
       "      <td>50000.000000</td>\n",
       "      <td>50000.000000</td>\n",
       "    </tr>\n",
       "    <tr>\n",
       "      <th>mean</th>\n",
       "      <td>24999.500000</td>\n",
       "      <td>0.10005</td>\n",
       "      <td>0.086496</td>\n",
       "      <td>0.102710</td>\n",
       "      <td>0.180068</td>\n",
       "      <td>0.102520</td>\n",
       "      <td>0.223384</td>\n",
       "      <td>19.301080</td>\n",
       "    </tr>\n",
       "    <tr>\n",
       "      <th>std</th>\n",
       "      <td>14433.901067</td>\n",
       "      <td>0.00215</td>\n",
       "      <td>0.083187</td>\n",
       "      <td>0.026176</td>\n",
       "      <td>0.098164</td>\n",
       "      <td>0.033444</td>\n",
       "      <td>0.113934</td>\n",
       "      <td>5.961726</td>\n",
       "    </tr>\n",
       "    <tr>\n",
       "      <th>min</th>\n",
       "      <td>0.000000</td>\n",
       "      <td>0.10000</td>\n",
       "      <td>-1.261111</td>\n",
       "      <td>0.100000</td>\n",
       "      <td>0.100000</td>\n",
       "      <td>0.100000</td>\n",
       "      <td>0.100000</td>\n",
       "      <td>7.000000</td>\n",
       "    </tr>\n",
       "    <tr>\n",
       "      <th>25%</th>\n",
       "      <td>12499.750000</td>\n",
       "      <td>0.10000</td>\n",
       "      <td>0.100000</td>\n",
       "      <td>0.100000</td>\n",
       "      <td>0.100000</td>\n",
       "      <td>0.100000</td>\n",
       "      <td>0.100000</td>\n",
       "      <td>15.000000</td>\n",
       "    </tr>\n",
       "    <tr>\n",
       "      <th>50%</th>\n",
       "      <td>24999.500000</td>\n",
       "      <td>0.10000</td>\n",
       "      <td>0.100000</td>\n",
       "      <td>0.100000</td>\n",
       "      <td>0.200000</td>\n",
       "      <td>0.100000</td>\n",
       "      <td>0.190909</td>\n",
       "      <td>19.000000</td>\n",
       "    </tr>\n",
       "    <tr>\n",
       "      <th>75%</th>\n",
       "      <td>37499.250000</td>\n",
       "      <td>0.10000</td>\n",
       "      <td>0.100000</td>\n",
       "      <td>0.100000</td>\n",
       "      <td>0.200000</td>\n",
       "      <td>0.100000</td>\n",
       "      <td>0.300000</td>\n",
       "      <td>23.000000</td>\n",
       "    </tr>\n",
       "    <tr>\n",
       "      <th>max</th>\n",
       "      <td>49999.000000</td>\n",
       "      <td>0.26000</td>\n",
       "      <td>0.655556</td>\n",
       "      <td>1.100000</td>\n",
       "      <td>1.100000</td>\n",
       "      <td>1.100000</td>\n",
       "      <td>1.100000</td>\n",
       "      <td>50.000000</td>\n",
       "    </tr>\n",
       "  </tbody>\n",
       "</table>\n",
       "</div>"
      ],
      "text/plain": [
       "         Unnamed: 0  cleanHouse_reward  harvester_reward  fourCorners_reward  \\\n",
       "count  50000.000000        50000.00000      50000.000000        50000.000000   \n",
       "mean   24999.500000            0.10005          0.086496            0.102710   \n",
       "std    14433.901067            0.00215          0.083187            0.026176   \n",
       "min        0.000000            0.10000         -1.261111            0.100000   \n",
       "25%    12499.750000            0.10000          0.100000            0.100000   \n",
       "50%    24999.500000            0.10000          0.100000            0.100000   \n",
       "75%    37499.250000            0.10000          0.100000            0.100000   \n",
       "max    49999.000000            0.26000          0.655556            1.100000   \n",
       "\n",
       "       randomMaze_reward  stairClimber_reward  topOff_reward      prog_len  \n",
       "count       50000.000000         50000.000000   50000.000000  50000.000000  \n",
       "mean            0.180068             0.102520       0.223384     19.301080  \n",
       "std             0.098164             0.033444       0.113934      5.961726  \n",
       "min             0.100000             0.100000       0.100000      7.000000  \n",
       "25%             0.100000             0.100000       0.100000     15.000000  \n",
       "50%             0.200000             0.100000       0.190909     19.000000  \n",
       "75%             0.200000             0.100000       0.300000     23.000000  \n",
       "max             1.100000             1.100000       1.100000     50.000000  "
      ]
     },
     "execution_count": 1,
     "metadata": {},
     "output_type": "execute_result"
    }
   ],
   "source": [
    "import pandas as pd\n",
    "\n",
    "df = pd.read_csv('leaps_data.csv')\n",
    "df.describe()"
   ]
  },
  {
   "cell_type": "code",
   "execution_count": 50,
   "metadata": {},
   "outputs": [
    {
     "data": {
      "text/html": [
       "<div>\n",
       "<style scoped>\n",
       "    .dataframe tbody tr th:only-of-type {\n",
       "        vertical-align: middle;\n",
       "    }\n",
       "\n",
       "    .dataframe tbody tr th {\n",
       "        vertical-align: top;\n",
       "    }\n",
       "\n",
       "    .dataframe thead th {\n",
       "        text-align: right;\n",
       "    }\n",
       "</style>\n",
       "<table border=\"1\" class=\"dataframe\">\n",
       "  <thead>\n",
       "    <tr style=\"text-align: right;\">\n",
       "      <th></th>\n",
       "      <th>cleanHouse_reward</th>\n",
       "      <th>harvester_reward</th>\n",
       "      <th>fourCorners_reward</th>\n",
       "      <th>randomMaze_reward</th>\n",
       "      <th>stairClimber_reward</th>\n",
       "      <th>topOff_reward</th>\n",
       "      <th>prog_len</th>\n",
       "    </tr>\n",
       "  </thead>\n",
       "  <tbody>\n",
       "    <tr>\n",
       "      <th>count</th>\n",
       "      <td>50000.00000</td>\n",
       "      <td>50000.000000</td>\n",
       "      <td>50000.000000</td>\n",
       "      <td>50000.000000</td>\n",
       "      <td>50000.000000</td>\n",
       "      <td>50000.000000</td>\n",
       "      <td>50000.000000</td>\n",
       "    </tr>\n",
       "    <tr>\n",
       "      <th>mean</th>\n",
       "      <td>0.10005</td>\n",
       "      <td>0.086496</td>\n",
       "      <td>0.102710</td>\n",
       "      <td>0.180068</td>\n",
       "      <td>0.102520</td>\n",
       "      <td>0.223384</td>\n",
       "      <td>19.301080</td>\n",
       "    </tr>\n",
       "    <tr>\n",
       "      <th>std</th>\n",
       "      <td>0.00215</td>\n",
       "      <td>0.083187</td>\n",
       "      <td>0.026176</td>\n",
       "      <td>0.098164</td>\n",
       "      <td>0.033444</td>\n",
       "      <td>0.113934</td>\n",
       "      <td>5.961726</td>\n",
       "    </tr>\n",
       "    <tr>\n",
       "      <th>min</th>\n",
       "      <td>0.10000</td>\n",
       "      <td>-1.261111</td>\n",
       "      <td>0.100000</td>\n",
       "      <td>0.100000</td>\n",
       "      <td>0.100000</td>\n",
       "      <td>0.100000</td>\n",
       "      <td>7.000000</td>\n",
       "    </tr>\n",
       "    <tr>\n",
       "      <th>25%</th>\n",
       "      <td>0.10000</td>\n",
       "      <td>0.100000</td>\n",
       "      <td>0.100000</td>\n",
       "      <td>0.100000</td>\n",
       "      <td>0.100000</td>\n",
       "      <td>0.100000</td>\n",
       "      <td>15.000000</td>\n",
       "    </tr>\n",
       "    <tr>\n",
       "      <th>50%</th>\n",
       "      <td>0.10000</td>\n",
       "      <td>0.100000</td>\n",
       "      <td>0.100000</td>\n",
       "      <td>0.200000</td>\n",
       "      <td>0.100000</td>\n",
       "      <td>0.190909</td>\n",
       "      <td>19.000000</td>\n",
       "    </tr>\n",
       "    <tr>\n",
       "      <th>75%</th>\n",
       "      <td>0.10000</td>\n",
       "      <td>0.100000</td>\n",
       "      <td>0.100000</td>\n",
       "      <td>0.200000</td>\n",
       "      <td>0.100000</td>\n",
       "      <td>0.300000</td>\n",
       "      <td>23.000000</td>\n",
       "    </tr>\n",
       "    <tr>\n",
       "      <th>max</th>\n",
       "      <td>0.26000</td>\n",
       "      <td>0.655556</td>\n",
       "      <td>1.100000</td>\n",
       "      <td>1.100000</td>\n",
       "      <td>1.100000</td>\n",
       "      <td>1.100000</td>\n",
       "      <td>50.000000</td>\n",
       "    </tr>\n",
       "  </tbody>\n",
       "</table>\n",
       "</div>"
      ],
      "text/plain": [
       "       cleanHouse_reward  harvester_reward  fourCorners_reward  \\\n",
       "count        50000.00000      50000.000000        50000.000000   \n",
       "mean             0.10005          0.086496            0.102710   \n",
       "std              0.00215          0.083187            0.026176   \n",
       "min              0.10000         -1.261111            0.100000   \n",
       "25%              0.10000          0.100000            0.100000   \n",
       "50%              0.10000          0.100000            0.100000   \n",
       "75%              0.10000          0.100000            0.100000   \n",
       "max              0.26000          0.655556            1.100000   \n",
       "\n",
       "       randomMaze_reward  stairClimber_reward  topOff_reward      prog_len  \n",
       "count       50000.000000         50000.000000   50000.000000  50000.000000  \n",
       "mean            0.180068             0.102520       0.223384     19.301080  \n",
       "std             0.098164             0.033444       0.113934      5.961726  \n",
       "min             0.100000             0.100000       0.100000      7.000000  \n",
       "25%             0.100000             0.100000       0.100000     15.000000  \n",
       "50%             0.200000             0.100000       0.190909     19.000000  \n",
       "75%             0.200000             0.100000       0.300000     23.000000  \n",
       "max             1.100000             1.100000       1.100000     50.000000  "
      ]
     },
     "execution_count": 50,
     "metadata": {},
     "output_type": "execute_result"
    }
   ],
   "source": [
    "def prog_len(prog):\n",
    "    env = ExecEnv2(config=get_karel_task_config('harvester'))\n",
    "    prog_seq = env.dsl.str2intseq(prog)\n",
    "    return len(prog_seq)\n",
    "\n",
    "df['prog_len'] = df['programs'].apply(lambda prog: prog_len(prog))\n",
    "df.describe()"
   ]
  },
  {
   "cell_type": "code",
   "execution_count": 55,
   "metadata": {},
   "outputs": [
    {
     "ename": "KeyboardInterrupt",
     "evalue": "",
     "output_type": "error",
     "traceback": [
      "\u001b[0;31m---------------------------------------------------------------------------\u001b[0m",
      "\u001b[0;31mKeyboardInterrupt\u001b[0m                         Traceback (most recent call last)",
      "Cell \u001b[0;32mIn[55], line 6\u001b[0m\n\u001b[1;32m      3\u001b[0m     reward, _ \u001b[39m=\u001b[39m env\u001b[39m.\u001b[39mreward(prog, is_program_str\u001b[39m=\u001b[39m\u001b[39mTrue\u001b[39;00m)\n\u001b[1;32m      4\u001b[0m     \u001b[39mreturn\u001b[39;00m reward\n\u001b[0;32m----> 6\u001b[0m df[\u001b[39m'\u001b[39m\u001b[39mharvester_reward\u001b[39m\u001b[39m'\u001b[39m] \u001b[39m=\u001b[39m df[\u001b[39m'\u001b[39m\u001b[39mprograms\u001b[39m\u001b[39m'\u001b[39m]\u001b[39m.\u001b[39mapply(new_harvester)\n\u001b[1;32m      7\u001b[0m df\u001b[39m.\u001b[39mdescribe()\n",
      "File \u001b[0;32m~/miniconda3/envs/decision-transformer-microrts/lib/python3.11/site-packages/pandas/core/series.py:4771\u001b[0m, in \u001b[0;36mSeries.apply\u001b[0;34m(self, func, convert_dtype, args, **kwargs)\u001b[0m\n\u001b[1;32m   4661\u001b[0m \u001b[39mdef\u001b[39;00m \u001b[39mapply\u001b[39m(\n\u001b[1;32m   4662\u001b[0m     \u001b[39mself\u001b[39m,\n\u001b[1;32m   4663\u001b[0m     func: AggFuncType,\n\u001b[0;32m   (...)\u001b[0m\n\u001b[1;32m   4666\u001b[0m     \u001b[39m*\u001b[39m\u001b[39m*\u001b[39mkwargs,\n\u001b[1;32m   4667\u001b[0m ) \u001b[39m-\u001b[39m\u001b[39m>\u001b[39m DataFrame \u001b[39m|\u001b[39m Series:\n\u001b[1;32m   4668\u001b[0m \u001b[39m    \u001b[39m\u001b[39m\"\"\"\u001b[39;00m\n\u001b[1;32m   4669\u001b[0m \u001b[39m    Invoke function on values of Series.\u001b[39;00m\n\u001b[1;32m   4670\u001b[0m \n\u001b[0;32m   (...)\u001b[0m\n\u001b[1;32m   4769\u001b[0m \u001b[39m    dtype: float64\u001b[39;00m\n\u001b[1;32m   4770\u001b[0m \u001b[39m    \"\"\"\u001b[39;00m\n\u001b[0;32m-> 4771\u001b[0m     \u001b[39mreturn\u001b[39;00m SeriesApply(\u001b[39mself\u001b[39m, func, convert_dtype, args, kwargs)\u001b[39m.\u001b[39mapply()\n",
      "File \u001b[0;32m~/miniconda3/envs/decision-transformer-microrts/lib/python3.11/site-packages/pandas/core/apply.py:1123\u001b[0m, in \u001b[0;36mSeriesApply.apply\u001b[0;34m(self)\u001b[0m\n\u001b[1;32m   1120\u001b[0m     \u001b[39mreturn\u001b[39;00m \u001b[39mself\u001b[39m\u001b[39m.\u001b[39mapply_str()\n\u001b[1;32m   1122\u001b[0m \u001b[39m# self.f is Callable\u001b[39;00m\n\u001b[0;32m-> 1123\u001b[0m \u001b[39mreturn\u001b[39;00m \u001b[39mself\u001b[39m\u001b[39m.\u001b[39mapply_standard()\n",
      "File \u001b[0;32m~/miniconda3/envs/decision-transformer-microrts/lib/python3.11/site-packages/pandas/core/apply.py:1174\u001b[0m, in \u001b[0;36mSeriesApply.apply_standard\u001b[0;34m(self)\u001b[0m\n\u001b[1;32m   1172\u001b[0m     \u001b[39melse\u001b[39;00m:\n\u001b[1;32m   1173\u001b[0m         values \u001b[39m=\u001b[39m obj\u001b[39m.\u001b[39mastype(\u001b[39mobject\u001b[39m)\u001b[39m.\u001b[39m_values\n\u001b[0;32m-> 1174\u001b[0m         mapped \u001b[39m=\u001b[39m lib\u001b[39m.\u001b[39mmap_infer(\n\u001b[1;32m   1175\u001b[0m             values,\n\u001b[1;32m   1176\u001b[0m             f,\n\u001b[1;32m   1177\u001b[0m             convert\u001b[39m=\u001b[39m\u001b[39mself\u001b[39m\u001b[39m.\u001b[39mconvert_dtype,\n\u001b[1;32m   1178\u001b[0m         )\n\u001b[1;32m   1180\u001b[0m \u001b[39mif\u001b[39;00m \u001b[39mlen\u001b[39m(mapped) \u001b[39mand\u001b[39;00m \u001b[39misinstance\u001b[39m(mapped[\u001b[39m0\u001b[39m], ABCSeries):\n\u001b[1;32m   1181\u001b[0m     \u001b[39m# GH#43986 Need to do list(mapped) in order to get treated as nested\u001b[39;00m\n\u001b[1;32m   1182\u001b[0m     \u001b[39m#  See also GH#25959 regarding EA support\u001b[39;00m\n\u001b[1;32m   1183\u001b[0m     \u001b[39mreturn\u001b[39;00m obj\u001b[39m.\u001b[39m_constructor_expanddim(\u001b[39mlist\u001b[39m(mapped), index\u001b[39m=\u001b[39mobj\u001b[39m.\u001b[39mindex)\n",
      "File \u001b[0;32m~/miniconda3/envs/decision-transformer-microrts/lib/python3.11/site-packages/pandas/_libs/lib.pyx:2924\u001b[0m, in \u001b[0;36mpandas._libs.lib.map_infer\u001b[0;34m()\u001b[0m\n",
      "Cell \u001b[0;32mIn[55], line 3\u001b[0m, in \u001b[0;36mnew_harvester\u001b[0;34m(prog)\u001b[0m\n\u001b[1;32m      1\u001b[0m \u001b[39mdef\u001b[39;00m \u001b[39mnew_harvester\u001b[39m(prog):\n\u001b[1;32m      2\u001b[0m     env \u001b[39m=\u001b[39m ExecEnv2(config\u001b[39m=\u001b[39mget_karel_task_config(\u001b[39m'\u001b[39m\u001b[39mharvester\u001b[39m\u001b[39m'\u001b[39m))\n\u001b[0;32m----> 3\u001b[0m     reward, _ \u001b[39m=\u001b[39m env\u001b[39m.\u001b[39mreward(prog, is_program_str\u001b[39m=\u001b[39m\u001b[39mTrue\u001b[39;00m)\n\u001b[1;32m      4\u001b[0m     \u001b[39mreturn\u001b[39;00m reward\n",
      "File \u001b[0;32m~/phd/decision-transformer/microrts/leaps/prl_gym/exec_env.py:561\u001b[0m, in \u001b[0;36mExecEnv2.reward\u001b[0;34m(self, pred_program_seq, is_program_str)\u001b[0m\n\u001b[1;32m    559\u001b[0m \u001b[39mdef\u001b[39;00m \u001b[39mreward\u001b[39m(\u001b[39mself\u001b[39m, pred_program_seq, is_program_str\u001b[39m=\u001b[39m\u001b[39mFalse\u001b[39;00m):\n\u001b[1;32m    560\u001b[0m \u001b[39m    \u001b[39m\u001b[39m\"\"\"Reward for synthesized programmatic policy (predicted program)\"\"\"\u001b[39;00m\n\u001b[0;32m--> 561\u001b[0m     pred_program \u001b[39m=\u001b[39m \u001b[39mself\u001b[39m\u001b[39m.\u001b[39mexecute_pred_program(pred_program_seq, is_program_str)\n\u001b[1;32m    562\u001b[0m     reward \u001b[39m=\u001b[39m pred_program[\u001b[39m'\u001b[39m\u001b[39mmean_reward\u001b[39m\u001b[39m'\u001b[39m]\n\u001b[1;32m    563\u001b[0m     \u001b[39mreturn\u001b[39;00m reward, pred_program\n",
      "File \u001b[0;32m~/phd/decision-transformer/microrts/leaps/prl_gym/exec_env.py:492\u001b[0m, in \u001b[0;36mExecEnv2.execute_pred_program\u001b[0;34m(self, program_seq, is_program_str)\u001b[0m\n\u001b[1;32m    490\u001b[0m \u001b[39mself\u001b[39m\u001b[39m.\u001b[39m_world\u001b[39m.\u001b[39mclear_history()\n\u001b[1;32m    491\u001b[0m \u001b[39mself\u001b[39m\u001b[39m.\u001b[39m_world\u001b[39m.\u001b[39mset_new_state(\u001b[39mself\u001b[39m\u001b[39m.\u001b[39minit_states[k][\u001b[39m0\u001b[39m], \u001b[39mself\u001b[39m\u001b[39m.\u001b[39minit_states[k][\u001b[39m4\u001b[39m])\n\u001b[0;32m--> 492\u001b[0m exe, s_exe \u001b[39m=\u001b[39m parse(program_str, environment\u001b[39m=\u001b[39m\u001b[39mself\u001b[39m\u001b[39m.\u001b[39mconfig\u001b[39m.\u001b[39menv_name)\n\u001b[1;32m    493\u001b[0m \u001b[39mif\u001b[39;00m \u001b[39mnot\u001b[39;00m s_exe:\n\u001b[1;32m    494\u001b[0m     \u001b[39mraise\u001b[39;00m \u001b[39mRuntimeError\u001b[39;00m(\u001b[39m'\u001b[39m\u001b[39mThis should be correct\u001b[39m\u001b[39m'\u001b[39m)\n",
      "File \u001b[0;32m~/phd/decision-transformer/microrts/leaps/karel_env/dsl/dsl_parse.py:205\u001b[0m, in \u001b[0;36mparse\u001b[0;34m(program, environment)\u001b[0m\n\u001b[1;32m    203\u001b[0m     queue\u001b[39m.\u001b[39mappend((p_tokens\u001b[39m.\u001b[39mpop(), \u001b[39mNone\u001b[39;00m))\n\u001b[1;32m    204\u001b[0m \u001b[39mfor\u001b[39;00m rule \u001b[39min\u001b[39;00m rules \u001b[39m+\u001b[39m env_rules[environment]:\n\u001b[0;32m--> 205\u001b[0m     applied \u001b[39m=\u001b[39m check_and_apply(queue, rule)\n\u001b[1;32m    206\u001b[0m     \u001b[39mif\u001b[39;00m applied: \u001b[39mbreak\u001b[39;00m\n\u001b[1;32m    207\u001b[0m \u001b[39mif\u001b[39;00m \u001b[39mnot\u001b[39;00m applied \u001b[39mand\u001b[39;00m \u001b[39mlen\u001b[39m(p_tokens) \u001b[39m==\u001b[39m \u001b[39m0\u001b[39m:  \u001b[39m# error parsing\u001b[39;00m\n",
      "File \u001b[0;32m~/phd/decision-transformer/microrts/leaps/karel_env/dsl/dsl_parse.py:12\u001b[0m, in \u001b[0;36mcheck_and_apply\u001b[0;34m(queue, rule)\u001b[0m\n\u001b[1;32m     10\u001b[0m \u001b[39mif\u001b[39;00m \u001b[39mlen\u001b[39m(queue) \u001b[39m>\u001b[39m\u001b[39m=\u001b[39m l:\n\u001b[1;32m     11\u001b[0m     t \u001b[39m=\u001b[39m queue[\u001b[39m-\u001b[39ml:]\n\u001b[0;32m---> 12\u001b[0m     \u001b[39mif\u001b[39;00m \u001b[39mlist\u001b[39m(\u001b[39mlist\u001b[39m(\u001b[39mzip\u001b[39m(\u001b[39m*\u001b[39mt))[\u001b[39m0\u001b[39m]) \u001b[39m==\u001b[39m r:\n\u001b[1;32m     13\u001b[0m         new_t \u001b[39m=\u001b[39m rule[\u001b[39m1\u001b[39m](\u001b[39mlist\u001b[39m(\u001b[39mlist\u001b[39m(\u001b[39mzip\u001b[39m(\u001b[39m*\u001b[39mt))[\u001b[39m1\u001b[39m]))\n\u001b[1;32m     14\u001b[0m         \u001b[39mdel\u001b[39;00m queue[\u001b[39m-\u001b[39ml:]\n",
      "\u001b[0;31mKeyboardInterrupt\u001b[0m: "
     ]
    }
   ],
   "source": [
    "def new_harvester(prog):\n",
    "    env = ExecEnv2(config=get_karel_task_config('harvester'))\n",
    "    reward, _ = env.reward(prog, is_program_str=True)\n",
    "    return reward\n",
    "\n",
    "df['harvester_reward'] = df['programs'].apply(new_harvester)\n",
    "df.describe()"
   ]
  },
  {
   "cell_type": "code",
   "execution_count": null,
   "metadata": {},
   "outputs": [],
   "source": [
    "df.to_csv('leaps_data.csv')"
   ]
  },
  {
   "cell_type": "code",
   "execution_count": 2,
   "metadata": {},
   "outputs": [
    {
     "data": {
      "image/png": "[encoded data removed]",
      "text/plain": [
       "<Figure size 1200x800 with 6 Axes>"
      ]
     },
     "metadata": {},
     "output_type": "display_data"
    }
   ],
   "source": [
    "import matplotlib.pyplot as plt\n",
    "\n",
    "num_bins = 100\n",
    "\n",
    "# Create a figure and arrange subplots\n",
    "fig, axes = plt.subplots(nrows=2, ncols=3, figsize=(12, 8))\n",
    "\n",
    "# Plot the distributions in each subplot\n",
    "axes[0, 0].hist(df.cleanHouse_reward, bins=num_bins, color='blue', alpha=0.7)\n",
    "axes[0, 0].set_title('cleanHouse')\n",
    "\n",
    "axes[0, 1].hist(df.harvester_reward, bins=num_bins, color='orange', alpha=0.7)\n",
    "axes[0, 1].set_title('harvester')\n",
    "\n",
    "axes[0, 2].hist(df.fourCorners_reward, bins=num_bins, color='green', alpha=0.7)\n",
    "axes[0, 2].set_title('fourCorners')\n",
    "\n",
    "axes[1, 0].hist(df.randomMaze_reward, bins=num_bins, color='red', alpha=0.7)\n",
    "axes[1, 0].set_title('randomMaze')\n",
    "\n",
    "axes[1, 1].hist(df.stairClimber_reward, bins=num_bins, color='purple', alpha=0.7)\n",
    "axes[1, 1].set_title('stairClimber')\n",
    "\n",
    "axes[1, 2].hist(df.topOff_reward, bins=num_bins, color='brown', alpha=0.7)\n",
    "axes[1, 2].set_title('topOff')\n",
    "\n",
    "# Adjust layout to prevent overlap\n",
    "plt.tight_layout()\n",
    "\n",
    "# Show the plot\n",
    "plt.show()"
   ]
  },
  {
   "cell_type": "code",
   "execution_count": 7,
   "metadata": {},
   "outputs": [
    {
     "name": "stdout",
     "output_type": "stream",
     "text": [
      "                                                programs  cleanHouse_reward  \\\n",
      "48     DEF run m( WHILE c( frontIsClear c) w( move mo...                0.1   \n",
      "99     DEF run m( REPEAT R=8 r( turnLeft putMarker r)...                0.1   \n",
      "100    DEF run m( WHILE c( not c( rightIsClear c) c) ...                0.1   \n",
      "142    DEF run m( putMarker move IFELSE c( frontIsCle...                0.1   \n",
      "149    DEF run m( IF c( frontIsClear c) i( move move ...                0.1   \n",
      "...                                                  ...                ...   \n",
      "49844  DEF run m( WHILE c( frontIsClear c) w( turnLef...                0.1   \n",
      "49874  DEF run m( WHILE c( markersPresent c) w( putMa...                0.1   \n",
      "49924  DEF run m( putMarker move move move WHILE c( l...                0.1   \n",
      "49969  DEF run m( move REPEAT R=5 r( putMarker r) mov...                0.1   \n",
      "49974  DEF run m( move move IF c( noMarkersPresent c)...                0.1   \n",
      "\n",
      "       harvester_reward  fourCorners_reward  randomMaze_reward  \\\n",
      "48            -0.483333                 0.1                0.1   \n",
      "99            -0.122222                 0.1                0.3   \n",
      "100           -0.122222                 0.1                0.3   \n",
      "142           -0.150000                 0.1                0.2   \n",
      "149           -0.122222                 0.1                0.2   \n",
      "...                 ...                 ...                ...   \n",
      "49844         -0.150000                 0.1                0.1   \n",
      "49874         -0.122222                 0.1                0.3   \n",
      "49924         -0.150000                 0.1                0.1   \n",
      "49969         -0.038889                 0.1                0.1   \n",
      "49974         -0.122222                 0.1                0.2   \n",
      "\n",
      "       stairClimber_reward  topOff_reward  \n",
      "48                     0.1       0.100000  \n",
      "99                     0.1       0.100000  \n",
      "100                    0.1       0.100000  \n",
      "142                    0.1       0.100000  \n",
      "149                    0.1       0.445455  \n",
      "...                    ...            ...  \n",
      "49844                  0.1       0.100000  \n",
      "49874                  0.1       0.190909  \n",
      "49924                  0.1       0.100000  \n",
      "49969                  0.1       0.190909  \n",
      "49974                  0.1       0.300000  \n",
      "\n",
      "[2079 rows x 7 columns]\n"
     ]
    }
   ],
   "source": [
    "anomalous = df[df.filter(like='_reward').apply(lambda col: (col < 0) | (col > 1)).any(axis=1)]\n",
    "print(anomalous)\n",
    "\n",
    "anomalous.to_csv('anomalous.csv')"
   ]
  },
  {
   "cell_type": "code",
   "execution_count": 23,
   "metadata": {},
   "outputs": [
    {
     "data": {
      "text/plain": [
       "'DEF run m( putMarker move turnLeft WHILE c( rightIsClear c) w( putMarker move w) m)'"
      ]
     },
     "execution_count": 23,
     "metadata": {},
     "output_type": "execute_result"
    }
   ],
   "source": [
    "tasks = ['cleanHouse', 'harvester', 'fourCorners', 'randomMaze', 'stairClimber', 'topOff']\n",
    "df[df['harvester_reward'] == df['harvester_reward'].min()].programs.values[0]"
   ]
  },
  {
   "cell_type": "code",
   "execution_count": 54,
   "metadata": {},
   "outputs": [
    {
     "name": "stdout",
     "output_type": "stream",
     "text": [
      "0, DEF\n",
      "1, run\n",
      "2, m(\n",
      "3, IFELSE\n",
      "4, c(\n",
      "5, rightIsClear\n",
      "6, c)\n",
      "7, i(\n",
      "8, IF\n",
      "9, c(\n",
      "10, not\n",
      "11, c(\n",
      "12, markersPresent\n",
      "13, c)\n",
      "14, c)\n",
      "15, i(\n",
      "16, turnRight\n",
      "17, i)\n",
      "18, WHILE\n",
      "19, c(\n",
      "20, frontIsClear\n",
      "21, c)\n",
      "22, w(\n",
      "23, turnRight\n",
      "24, w)\n",
      "25, i)\n",
      "26, ELSE\n",
      "27, e(\n",
      "28, IF\n",
      "29, c(\n",
      "30, markersPresent\n",
      "31, c)\n",
      "32, i(\n",
      "33, IFELSE\n",
      "34, c(\n",
      "35, not\n",
      "36, c(\n",
      "37, frontIsClear\n",
      "38, c)\n",
      "39, c)\n",
      "40, i(\n",
      "41, move\n",
      "42, i)\n",
      "43, ELSE\n",
      "44, e(\n",
      "45, putMarker\n",
      "46, e)\n",
      "47, i)\n",
      "48, e)\n",
      "49, m)\n"
     ]
    }
   ],
   "source": [
    "max_len = df[df['prog_len'] == df['prog_len'].max()].programs.values[0]\n",
    "print('\\n'.join([f'{idx}, {token}' for idx, token in enumerate(max_len.split())]))"
   ]
  },
  {
   "cell_type": "code",
   "execution_count": 4,
   "metadata": {},
   "outputs": [
    {
     "name": "stdout",
     "output_type": "stream",
     "text": [
      "Counter({0.1: 49461, 0.35: 538, 1.1: 1})\n"
     ]
    }
   ],
   "source": [
    "from collections import Counter\n",
    "print(Counter(df['fourCorners_reward']))"
   ]
  }
 ],
 "metadata": {
  "kernelspec": {
   "display_name": "decision-transformer-microrts",
   "language": "python",
   "name": "python3"
  },
  "language_info": {
   "codemirror_mode": {
    "name": "ipython",
    "version": 3
   },
   "file_extension": ".py",
   "mimetype": "text/x-python",
   "name": "python",
   "nbconvert_exporter": "python",
   "pygments_lexer": "ipython3",
   "version": "3.11.3"
  },
  "orig_nbformat": 4
 },
 "nbformat": 4,
 "nbformat_minor": 2
}
